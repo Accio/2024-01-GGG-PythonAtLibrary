{
 "cells": [
  {
   "cell_type": "markdown",
   "id": "363a89a3-d29d-4bdc-8118-8845f47705ee",
   "metadata": {},
   "source": [
    "# Zukunftstag 2023\n",
    "\n",
    "Jitao David Zhang, November 2023"
   ]
  },
  {
   "cell_type": "markdown",
   "id": "63655593-c0f2-4e54-8ad3-1a791d7bad69",
   "metadata": {},
   "source": [
    "Wir lernen gemeinsam Jupyter Lab kennen mit eine simulierte klinische Studie. Wir werden die Daten mit Jupyter Notebook analysieren und visualisieren, und die Daten gemeinsam interpretieren.\n",
    "\n",
    "Die Code wurde auf [jupyter.org/try-jupyter](https://jupyter.org/try-jupyter) getestet. Man braucht nur eine Web-browser, um das Program durchzuführen."
   ]
  },
  {
   "cell_type": "markdown",
   "id": "543f8809-5d66-4121-b032-cde4eb672284",
   "metadata": {},
   "source": [
    "## Sicherstellen, dass Jupyter funktioniert"
   ]
  },
  {
   "cell_type": "code",
   "execution_count": null,
   "id": "3417144d-37e9-46b9-b17d-1420b5ac885c",
   "metadata": {},
   "outputs": [],
   "source": [
    "3 + 9"
   ]
  },
  {
   "cell_type": "code",
   "execution_count": null,
   "id": "ed84d115-478d-485f-83db-5f97df1cf54d",
   "metadata": {},
   "outputs": [],
   "source": [
    "9/3"
   ]
  },
  {
   "cell_type": "code",
   "execution_count": null,
   "id": "aba781fa-ea66-4fe3-b9e5-d8abb1115be6",
   "metadata": {},
   "outputs": [],
   "source": [
    "my_name = \"David\"\n",
    "welcome = \"Hello, \" + my_name\n",
    "print(welcome)"
   ]
  },
  {
   "cell_type": "code",
   "execution_count": null,
   "id": "e5c03bde-7b8d-40ac-a247-13c058beaa24",
   "metadata": {},
   "outputs": [],
   "source": [
    "import numpy as np"
   ]
  },
  {
   "cell_type": "code",
   "execution_count": null,
   "id": "f3f424ed-f71b-4634-a645-ae117b35aedd",
   "metadata": {},
   "outputs": [],
   "source": [
    "my_numbers = range(1, 10)\n",
    "np.sum(my_numbers)"
   ]
  },
  {
   "cell_type": "code",
   "execution_count": null,
   "id": "599c505b-1c93-473f-b167-7fe32effaaa6",
   "metadata": {},
   "outputs": [],
   "source": [
    "my_numbers_2 = range(1, 100)\n",
    "np.sum(my_numbers_2)"
   ]
  },
  {
   "cell_type": "markdown",
   "id": "a5991a26-92b9-4c07-8445-0fcc2186c6d0",
   "metadata": {},
   "source": [
    "# Eine klinische Studie simulieren"
   ]
  },
  {
   "cell_type": "code",
   "execution_count": null,
   "id": "f5c9f8f1-42a7-4024-8006-88ac9fc1395d",
   "metadata": {},
   "outputs": [],
   "source": [
    "import pandas as pd"
   ]
  },
  {
   "cell_type": "code",
   "execution_count": null,
   "id": "e92b98b9-b200-45a9-83f0-2baaad8e3bda",
   "metadata": {},
   "outputs": [],
   "source": [
    "np.random.seed(20240126)"
   ]
  },
  {
   "cell_type": "code",
   "execution_count": null,
   "id": "a6091a55-212f-4d84-8756-e50e39e82491",
   "metadata": {},
   "outputs": [],
   "source": [
    "names = [\"Emma\", \"Olivia\", \"Emily\", \"James\", \"Daniel\",\n",
    "         \"Benjamin\", \"Alexander\", \n",
    "         \"Isabella\", \"Thomas\", \"Sarah\", \"Charlotte\", \"Elizabeth\",\n",
    "         \"Liam\", \"Mia\", \"Ethan\", \"Ella\", \"Sophia\", \"Joshua\", \"Oliver\",\n",
    "         \"Anna\", \"Lena\", \"Laila\", \"Emma\", \"Karl\"]\n",
    "len(names)"
   ]
  },
  {
   "cell_type": "code",
   "execution_count": null,
   "id": "3760f8e2-b7a4-4763-ad35-cc8e11bfce14",
   "metadata": {},
   "outputs": [],
   "source": [
    "pre_g0 = np.random.normal(8, 1, size=8)\n",
    "post_g0 = np.random.normal(8, 1, size=8)\n",
    "pre_g1 = np.random.normal(8, 1, size=8)\n",
    "post_g1 = np.random.normal(6, 1, size=8)\n",
    "pre_g2 = np.random.normal(8, 1, size=8)\n",
    "post_g2 = np.random.normal(4, 1, size=8)\n",
    "pre_all = np.round(np.clip(np.concatenate((pre_g0, pre_g1, pre_g2), axis=None), 0, 10), 1)\n",
    "post_all = np.round(np.clip(np.concatenate((post_g0, post_g1, post_g2), axis=None), 0, 10))"
   ]
  },
  {
   "cell_type": "code",
   "execution_count": null,
   "id": "94f7b5a6-6cd8-4d0a-b9f2-6213bb03460f",
   "metadata": {},
   "outputs": [],
   "source": [
    "treatments = np.concatenate(([\"PilleA\"] * 8, [\"PilleB\"] * 8, [\"PilleC\"] * 8), axis=None)"
   ]
  },
  {
   "cell_type": "code",
   "execution_count": null,
   "id": "1733c1f4-3567-4e52-8580-13381d2ea315",
   "metadata": {},
   "outputs": [],
   "source": [
    "trial_data = pd.DataFrame({\"Name\":names,\n",
    "                          \"Behandlung\": treatments,\n",
    "                          \"Vor\": pre_all,\n",
    "                          \"Nach\": post_all},\n",
    "                         index=names)"
   ]
  },
  {
   "cell_type": "code",
   "execution_count": null,
   "id": "f2925a58-e98d-4d00-9cf4-90ef04302239",
   "metadata": {},
   "outputs": [],
   "source": [
    "print(trial_data)"
   ]
  },
  {
   "cell_type": "code",
   "execution_count": null,
   "id": "f94e3880-ca35-4655-8ed3-c02d3b4020fa",
   "metadata": {},
   "outputs": [],
   "source": [
    "trial_data.sort_values(by=[\"Behandlung\", \"Name\"])"
   ]
  },
  {
   "cell_type": "markdown",
   "id": "a1424dbe-92e7-4661-bbcd-40407f12e4f4",
   "metadata": {},
   "source": [
    "## Wie kann man eine Liste von Angaben in einer DateFrame umwandeln?"
   ]
  },
  {
   "cell_type": "code",
   "execution_count": null,
   "id": "701fdad4-d069-4bf9-9d59-6558dcd27efa",
   "metadata": {},
   "outputs": [],
   "source": [
    "person1 = ['David', 'PilleA', 4.7, 4.5]\n",
    "person2 = ['Emma', 'PilleB', 4.5, 4]\n",
    "person3 = ['Matteo', 'PilleC', 4.5, 4]\n",
    "person_df = pd.DataFrame([person1, person2, person3],\n",
    "            columns=['Name', 'Behandlung', 'Vor', 'Nach'])\n",
    "person_df.index = person_df[\"Name\"].tolist()\n",
    "person_df"
   ]
  },
  {
   "cell_type": "markdown",
   "id": "c15cc6e7-55b2-4146-be2e-f727849393e1",
   "metadata": {},
   "source": [
    "## Die Daten mit Abbildungen darstellen"
   ]
  },
  {
   "cell_type": "code",
   "execution_count": null,
   "id": "4221ab0b-9220-4bc7-8b08-e8fffc4351a3",
   "metadata": {},
   "outputs": [],
   "source": [
    "import matplotlib.style as style\n",
    "import matplotlib.pyplot as plt\n",
    "style.use(\"fast\")"
   ]
  },
  {
   "cell_type": "code",
   "execution_count": null,
   "id": "7af0278b-6c06-4337-a818-c918ccc4d1cc",
   "metadata": {},
   "outputs": [],
   "source": [
    "ax = trial_data.plot.bar()\n",
    "plt.xlabel(\"Teilnehmer\")\n",
    "plt.ylabel(\"Schmerzskala\")\n",
    "plt.show()"
   ]
  },
  {
   "cell_type": "code",
   "execution_count": null,
   "id": "2809799c-68cd-4486-96cd-77f642163c8d",
   "metadata": {},
   "outputs": [],
   "source": [
    "ax = trial_data.sort_values(['Behandlung', 'Name']).plot.line(rot=90)\n",
    "ax.set_xticks(range(len(trial_data['Name'])))\n",
    "ax.set_xticklabels(trial_data['Name'])\n",
    "plt.show()"
   ]
  },
  {
   "cell_type": "code",
   "execution_count": null,
   "id": "257802d6-1fd3-47f1-a4c8-48a326409901",
   "metadata": {},
   "outputs": [],
   "source": [
    "trial_data.sort_values(by=[\"Behandlung\", \"Name\"]).plot.bar()"
   ]
  },
  {
   "cell_type": "code",
   "execution_count": null,
   "id": "deb03989-0741-493e-9bdf-4630cebcc2d8",
   "metadata": {},
   "outputs": [],
   "source": [
    "trial_data.boxplot(column=[\"Vor\", \"Nach\"], by=\"Behandlung\")\n",
    "plt.show()"
   ]
  },
  {
   "cell_type": "markdown",
   "id": "1902c709-3dd3-4756-bfe8-3dfd7a470d43",
   "metadata": {},
   "source": [
    "## Mit den Daten arbeiten"
   ]
  },
  {
   "cell_type": "code",
   "execution_count": null,
   "id": "4cf17ae5-9427-49a4-b5b9-de5d2688390e",
   "metadata": {},
   "outputs": [],
   "source": [
    "trial_data[\"Unterschied\"] = trial_data[\"Nach\"] - trial_data[\"Vor\"]\n",
    "print(trial_data)"
   ]
  },
  {
   "cell_type": "code",
   "execution_count": null,
   "id": "2925e4a2-96e4-4b11-81bc-dec7d5db1406",
   "metadata": {},
   "outputs": [],
   "source": [
    "trial_data.sort_values(\"Unterschied\", ascending=False)"
   ]
  },
  {
   "cell_type": "code",
   "execution_count": null,
   "id": "95ce4c9d-ce3f-4296-ba3d-7af09772bc9b",
   "metadata": {},
   "outputs": [],
   "source": [
    "trial_data.boxplot(column=\"Unterschied\", by=\"Behandlung\", grid=False)\n",
    "plt.axhline(y=0, color=\"k\", linestyle=\"--\")\n",
    "trial_data.plot.scatter(\"Behandlung\", \"Unterschied\")\n",
    "plt.axhline(y=0, color=\"k\", linestyle=\"--\")\n",
    "plt.show()"
   ]
  },
  {
   "cell_type": "code",
   "execution_count": null,
   "id": "4bb2023d-5b21-4d1b-81d8-fa3f5848dc5f",
   "metadata": {},
   "outputs": [],
   "source": [
    "p = trial_data.boxplot(column=\"Unterschied\", by=\"Behandlung\", grid=False)\n",
    "plt.axhline(y=0, color=\"k\", linestyle=\"--\")\n",
    "for b, d in enumerate(trial_data[\"Unterschied\"]):\n",
    "    behandlung = trial_data[\"Behandlung\"][b]\n",
    "    if behandlung == \"PilleA\":\n",
    "        x = 1\n",
    "    elif behandlung == \"PilleB\":\n",
    "        x = 2\n",
    "    elif behandlung == \"PilleC\":\n",
    "        x = 3\n",
    "    plt.scatter(x, d, c=\"blue\")\n",
    "plt.show()"
   ]
  },
  {
   "cell_type": "code",
   "execution_count": null,
   "id": "5dc55291-ff82-448b-ba6c-053f45e47c3f",
   "metadata": {},
   "outputs": [],
   "source": [
    "## density plot is not supported by Jupyter\n",
    "## trial_pivot = trial_data.reset_index().pivot(columns=\"Behandlung\", values=\"Unterschied\")\n",
    "## trial_pivot.plot.density()\n",
    "## plt.axvline(x=0, c=\"k\", linestyle=\"--\")\n",
    "## plt.show()"
   ]
  },
  {
   "cell_type": "markdown",
   "id": "bffcd6d2-43a4-471c-a9e0-9de7497b20a5",
   "metadata": {},
   "source": [
    "## Eine kleine statistische Analyse"
   ]
  },
  {
   "cell_type": "code",
   "execution_count": null,
   "id": "00cabf4f-2448-432c-bdac-b66dbbe6c8e8",
   "metadata": {},
   "outputs": [],
   "source": [
    "import statsmodels as sm\n",
    "import statsmodels.api as sma\n",
    "from statsmodels.formula.api import ols"
   ]
  },
  {
   "cell_type": "code",
   "execution_count": null,
   "id": "836159b9-6a0c-41d5-9243-fba4ad41ab36",
   "metadata": {},
   "outputs": [],
   "source": [
    "pille_effect = ols('Unterschied ~ Behandlung', data = trial_data).fit()\n",
    "print(pille_effect.summary())"
   ]
  },
  {
   "cell_type": "code",
   "execution_count": null,
   "id": "b9696e45-0e03-476c-80c9-ec59932bae40",
   "metadata": {},
   "outputs": [],
   "source": [
    "table = sma.stats.anova_lm(pille_effect)\n",
    "print(table)"
   ]
  },
  {
   "cell_type": "markdown",
   "id": "d49934d2-106f-4ef8-8cb6-b809c58a6a79",
   "metadata": {},
   "source": [
    "## Die Daten exportieren"
   ]
  },
  {
   "cell_type": "code",
   "execution_count": null,
   "id": "94a4523d-e587-4ff4-9619-eb3931932210",
   "metadata": {},
   "outputs": [],
   "source": [
    "trial_data[['Behandlung', 'Vor', 'Nach']].to_csv(\"20240126-simulated-trial-data.tsv\", sep=\"\\t\", index=False)"
   ]
  },
  {
   "cell_type": "markdown",
   "id": "49586425-25b0-4de3-91d9-230573bfe9e1",
   "metadata": {},
   "source": [
    "## Fragen"
   ]
  },
  {
   "cell_type": "markdown",
   "id": "b3be157d-a7de-445c-8f5c-0a045ec667a7",
   "metadata": {},
   "source": [
    "1. Wer glaubt, dass ihre/sein Pille hat funktioniert für sie/ihn? Wer glaubt, dass die Pille nicht funktioniert hat?\n",
    "2. Wenn wir davon ausgehen, dass Pille A, Pille B, Pille C jeweilse Placebo, ein neu Medikament von einer niedriger Dose, und das selbe neue Medikament von einer höheren Dose sind. Welche Schlussfolgerungen können wir ziehen?\n",
    "3. Um das Medikament zu mehr Patienten bringen, worauf müssen wir noch beachten?\n",
    "4. Was können wir noch mit den Daten machen? Falls Du Lust und Zeit hast, probiere [ChatGPT](https://chat.openai.com/) oder ähnliche Tools zu benutzen, um mit den Daten bzw. mit unseren Code zu spielen, z.B. neue Funktionalität hinzufügen oder andere Visualisierungen zu realisieren."
   ]
  }
 ],
 "metadata": {
  "kernelspec": {
   "display_name": "Python 3 (ipykernel)",
   "language": "python",
   "name": "python3"
  },
  "language_info": {
   "codemirror_mode": {
    "name": "ipython",
    "version": 3
   },
   "file_extension": ".py",
   "mimetype": "text/x-python",
   "name": "python",
   "nbconvert_exporter": "python",
   "pygments_lexer": "ipython3",
   "version": "3.11.3"
  }
 },
 "nbformat": 4,
 "nbformat_minor": 5
}
