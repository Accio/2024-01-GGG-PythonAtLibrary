{
 "cells": [
  {
   "cell_type": "markdown",
   "id": "934969ce-d882-4166-aa2c-ef9ea32d4217",
   "metadata": {},
   "source": [
    "# Python@Library 2024 - Teil 2\n",
    "\n",
    "Jitao David Zhang, Januar 2024\n",
    "\n",
    "Diese kurze Python Tutorial is stark vom Software Carpentry Kurs [*Plotting and Programming in Python*](https://swcarpentry.github.io/python-novice-gapminder/), und von [Python Tutorial](https://github.com/kdungs/teaching-SMD2-2016/blob/master/tutorials/Python%20Tutorial.ipynb) von *kdungs* inspiriert."
   ]
  },
  {
   "cell_type": "markdown",
   "id": "e6b51a85-4b15-4884-93f4-4dd33dace8cf",
   "metadata": {},
   "source": [
    "## Variablen und Datentypen"
   ]
  },
  {
   "cell_type": "code",
   "execution_count": 1,
   "id": "3e0c2a1a-9efd-4831-8ffe-39942c495b1e",
   "metadata": {},
   "outputs": [
    {
     "name": "stdout",
     "output_type": "stream",
     "text": [
      "3\n",
      "Grüzi\n",
      "[1, 2, 3]\n",
      "1\n",
      "2\n",
      "[1, 2]\n"
     ]
    }
   ],
   "source": [
    "# Hier ist ein Kommentar\n",
    "\n",
    "x = 3 # integer\n",
    "print(x) ## drucken\n",
    "\n",
    "y = 'Grüzi'\n",
    "print(y)\n",
    "\n",
    "z = [1, 2, 3] ## z ist eine Liste\n",
    "print(z)\n",
    "print(z[0])\n",
    "print(z[1])\n",
    "print(z[0:-1])\n"
   ]
  },
  {
   "cell_type": "markdown",
   "id": "1befe925-df36-41f8-998b-28035c2bf06b",
   "metadata": {},
   "source": [
    "* Der `NoneType`, None\n",
    "* Der `bool` type: `True` und `False`\n",
    "* Numerische Typen\n",
    "    * `int`, z.B. 42\n",
    "    * `float`, z.B. 3.1415926\n",
    "    * `comlex`\n",
    "* Sequenzen:\n",
    "    * `string`, z.B. 'Hallo, Welt!'\n",
    "    * `list`, z.B. `[1, 2, 3]`\n",
    "    * `tuple`, z.B. `('Manuel', 15, 177, 62)`\n",
    "* Der `dict` (*Dictionary* in Englisch, Wörterbuch), z.B. `{'name': 'Manuel','alter': 15, 'Grösse': 177, 'Gewicht': 62}`.\n",
    "* Det `Set` (Menge), z.B. '{1, 2, 3}'"
   ]
  },
  {
   "cell_type": "markdown",
   "id": "417338b6-3105-4517-9c56-3dab8f0415ae",
   "metadata": {},
   "source": [
    "## Konversion zwischen Typen"
   ]
  },
  {
   "cell_type": "code",
   "execution_count": 2,
   "id": "e196fce6-abfa-4c20-b161-90d608b3b099",
   "metadata": {},
   "outputs": [
    {
     "name": "stdout",
     "output_type": "stream",
     "text": [
      "3.52\n",
      "<class 'str'>\n",
      "<class 'float'>\n"
     ]
    }
   ],
   "source": [
    "x = '3.52'\n",
    "xf = float(x)\n",
    "print(xf)\n",
    "\n",
    "print(type(x))\n",
    "print(type(xf))"
   ]
  },
  {
   "cell_type": "code",
   "execution_count": 3,
   "id": "e14d2bca-9b1f-456c-a899-7f74c3a476ac",
   "metadata": {},
   "outputs": [
    {
     "name": "stdout",
     "output_type": "stream",
     "text": [
      "False\n",
      "True\n"
     ]
    },
    {
     "data": {
      "text/plain": [
       "True"
      ]
     },
     "execution_count": 3,
     "metadata": {},
     "output_type": "execute_result"
    }
   ],
   "source": [
    "x = 0\n",
    "xb = bool(x)\n",
    "print(xb)\n",
    "\n",
    "y=1\n",
    "yb = bool(y)\n",
    "print(yb)\n",
    "\n",
    "bool(-1) ## aufpassen: alle nicht-0 werte sind als True konvertiert"
   ]
  },
  {
   "cell_type": "code",
   "execution_count": 4,
   "id": "02eae9f3-d3b3-4be5-9428-166e3680b3b2",
   "metadata": {},
   "outputs": [
    {
     "name": "stdout",
     "output_type": "stream",
     "text": [
      "False\n",
      "True\n"
     ]
    }
   ],
   "source": [
    "nt = not True\n",
    "print(nt)\n",
    "\n",
    "ne = not []\n",
    "print(ne)"
   ]
  },
  {
   "cell_type": "markdown",
   "id": "d007b862-e02f-4088-9303-a2f2f217ab93",
   "metadata": {},
   "source": [
    "## Operatoren\n",
    "\n",
    "Mit Hilfe von Operatoren kann man mit Variablen von gleichen Typen rechnen. Für numerische Typen gibt es beispielsweise die arithmetischen Operatoren\n",
    "\n",
    "* `+` Addition\n",
    "* `-` Subtraktion\n",
    "* `*` Multiplikation\n",
    "* `/` Division\n",
    "* `//` ganzzahlige Division\n",
    "* `%` Restwertbildung\n",
    "* `**` Potenzieren"
   ]
  },
  {
   "cell_type": "code",
   "execution_count": 5,
   "id": "fdf77936-0f71-460d-a4a7-483005038059",
   "metadata": {},
   "outputs": [
    {
     "name": "stdout",
     "output_type": "stream",
     "text": [
      "8.4\n",
      "179.0988582563644\n"
     ]
    }
   ],
   "source": [
    "wert = 1.68\n",
    "wert_2 = wert * 5\n",
    "wert_3 = wert ** 10\n",
    "\n",
    "print(wert_2)\n",
    "print(wert_3)"
   ]
  },
  {
   "cell_type": "code",
   "execution_count": 6,
   "id": "891aad07-e46e-4114-a5b4-8aaaa15b2b1a",
   "metadata": {},
   "outputs": [
    {
     "name": "stdout",
     "output_type": "stream",
     "text": [
      "ElenaSeitz\n",
      "Elena Seitz\n"
     ]
    }
   ],
   "source": [
    "vorname = 'Elena'\n",
    "nachname = 'Seitz'\n",
    "print(vorname + nachname)\n",
    "vollname = vorname + ' ' + nachname\n",
    "print(vollname)"
   ]
  },
  {
   "cell_type": "code",
   "execution_count": 7,
   "id": "fd46ea8a-9d70-48e0-8899-c5b3931617f9",
   "metadata": {},
   "outputs": [
    {
     "name": "stdout",
     "output_type": "stream",
     "text": [
      "['Hitz', 'Schmid', 'Frei', 'Van Breemen', 'Dräger', 'Veiga', 'Xhaka', 'Gauto', 'Essiam', 'Kade', 'Jovanovic']\n"
     ]
    }
   ],
   "source": [
    "torwart = ['Hitz']\n",
    "verteidigung = ['Schmid', 'Frei', 'Van Breemen', 'Dräger']\n",
    "mittelfeld = ['Veiga', 'Xhaka', 'Gauto', 'Essiam']\n",
    "sturm = ['Kade', 'Jovanovic']\n",
    "team = torwart + verteidigung + mittelfeld + sturm\n",
    "print(team)"
   ]
  },
  {
   "cell_type": "markdown",
   "id": "8fdcf82e-ba20-4722-a155-9fd161a1a707",
   "metadata": {},
   "source": [
    "## Kotrollstrukturen: if-else, *while* Schleife, und *for* Schleife"
   ]
  },
  {
   "cell_type": "code",
   "execution_count": 8,
   "id": "f036df9f-94f1-4cbd-bbb3-9dec73afa103",
   "metadata": {},
   "outputs": [
    {
     "name": "stdout",
     "output_type": "stream",
     "text": [
      "Es ist eher warm für Basel in Januar\n"
     ]
    }
   ],
   "source": [
    "temperatur = 13\n",
    "if temperatur > 10: # if = falls\n",
    "    print(\"Es ist eher warm für Basel in Januar\")\n",
    "else: # else = ansonsten\n",
    "    print('Saukalt wie immer')"
   ]
  },
  {
   "cell_type": "code",
   "execution_count": 9,
   "id": "5a56e41e-5545-425e-ba2c-520bd21d534e",
   "metadata": {},
   "outputs": [
    {
     "name": "stdout",
     "output_type": "stream",
     "text": [
      "0\n",
      "1\n",
      "2\n",
      "3\n",
      "4\n"
     ]
    }
   ],
   "source": [
    "i = 0\n",
    "while i < 5: ## while = während\n",
    "    print(i)\n",
    "    i = i + 1"
   ]
  },
  {
   "cell_type": "code",
   "execution_count": 10,
   "id": "ee580a20-7b23-4837-850c-499f1fbea8bb",
   "metadata": {},
   "outputs": [
    {
     "name": "stdout",
     "output_type": "stream",
     "text": [
      "66\n"
     ]
    }
   ],
   "source": [
    "s = 0\n",
    "for i in range(12):\n",
    "    s = s + i\n",
    "\n",
    "print(s)"
   ]
  },
  {
   "cell_type": "code",
   "execution_count": 11,
   "id": "4441a8b9-b78b-4689-be81-61ac28d0ae3c",
   "metadata": {},
   "outputs": [
    {
     "name": "stdout",
     "output_type": "stream",
     "text": [
      "Der 1. spieler heute heisstHitz\n",
      "Der 2. spieler heute heisstSchmid\n",
      "Der 3. spieler heute heisstFrei\n",
      "Der 4. spieler heute heisstVan Breemen\n",
      "Der 5. spieler heute heisstDräger\n",
      "Der 6. spieler heute heisstVeiga\n",
      "Der 7. spieler heute heisstXhaka\n",
      "Der 8. spieler heute heisstGauto\n",
      "Der 9. spieler heute heisstEssiam\n",
      "Der 10. spieler heute heisstKade\n",
      "Der 11. spieler heute heisstJovanovic\n"
     ]
    }
   ],
   "source": [
    "for index, name in enumerate(team):\n",
    "    print('Der ' + str(index+1) + '. spieler heute heisst' + str(name))"
   ]
  },
  {
   "cell_type": "code",
   "execution_count": 12,
   "id": "70878e70-6db6-4f97-b0c9-84718881a04b",
   "metadata": {},
   "outputs": [
    {
     "name": "stdout",
     "output_type": "stream",
     "text": [
      "['Hitz', 'Schmid', 'Frei', 'Van Breemen', 'Dräger', 'Veiga', 'Xhaka', 'Gauto', 'Essiam', 'Kade', 'Jovanovic']\n",
      "Heute spielt Hitz für den FCB\n",
      "Heute spielt Schmid für den FCB\n",
      "Heute spielt Frei für den FCB\n",
      "Heute spielt Van Breemen für den FCB\n",
      "Heute spielt Dräger für den FCB\n",
      "Heute spielt Veiga für den FCB\n",
      "Heute spielt Xhaka für den FCB\n",
      "Heute spielt Gauto für den FCB\n",
      "Heute spielt Essiam für den FCB\n",
      "Heute spielt Kade für den FCB\n",
      "Heute spielt Jovanovic für den FCB\n"
     ]
    }
   ],
   "source": [
    "torwart = ['Hitz']\n",
    "verteidigung = ['Schmid', 'Frei', 'Van Breemen', 'Dräger']\n",
    "mittelfeld = ['Veiga', 'Xhaka', 'Gauto', 'Essiam']\n",
    "sturm = ['Kade', 'Jovanovic']\n",
    "team = torwart + verteidigung + mittelfeld + sturm\n",
    "print(team)\n",
    "\n",
    "for spieler in team:\n",
    "    print(\"Heute spielt \" + spieler + \" für den FCB\")"
   ]
  },
  {
   "cell_type": "code",
   "execution_count": 13,
   "id": "f2870d17-14f1-42ce-a424-dedb52580a31",
   "metadata": {},
   "outputs": [
    {
     "name": "stdout",
     "output_type": "stream",
     "text": [
      "Der 1. spieler heute heisstHitz\n",
      "Der 2. spieler heute heisstSchmid\n",
      "Der 3. spieler heute heisstFrei\n",
      "Der 4. spieler heute heisstVan Breemen\n",
      "Der 5. spieler heute heisstDräger\n",
      "Der 6. spieler heute heisstVeiga\n",
      "Der 7. spieler heute heisstXhaka\n",
      "Der 8. spieler heute heisstGauto\n",
      "Der 9. spieler heute heisstEssiam\n",
      "Der 10. spieler heute heisstKade\n",
      "Der 11. spieler heute heisstJovanovic\n"
     ]
    }
   ],
   "source": [
    "for index, name in enumerate(team):\n",
    "    human_index = index + 1\n",
    "    human_index_str = str(human_index)\n",
    "    print('Der ' + human_index_str + '. spieler heute heisst' + name)"
   ]
  },
  {
   "cell_type": "code",
   "execution_count": 14,
   "id": "01a6bc7e-0de6-466d-9749-cdf2190fafde",
   "metadata": {},
   "outputs": [],
   "source": [
    "torwart_nummer = [1]\n",
    "verteidigung_nummer = [31, 20, 25, 6]\n",
    "mittelfeld_nummer = [40, 34, 33, 18]\n",
    "sturm_nummer = [30, 99]\n",
    "team_nummer = torwart_nummer + verteidigung_nummer + mittelfeld_nummer + sturm_nummer"
   ]
  },
  {
   "cell_type": "code",
   "execution_count": 15,
   "id": "d2984f11-5a8d-421c-935d-041b42e02276",
   "metadata": {},
   "outputs": [
    {
     "name": "stdout",
     "output_type": "stream",
     "text": [
      "Der spieler Hitzhat Trikot mit der Nummer 1\n",
      "Der spieler Schmidhat Trikot mit der Nummer 31\n",
      "Der spieler Freihat Trikot mit der Nummer 20\n",
      "Der spieler Van Breemenhat Trikot mit der Nummer 25\n",
      "Der spieler Drägerhat Trikot mit der Nummer 6\n",
      "Der spieler Veigahat Trikot mit der Nummer 40\n",
      "Der spieler Xhakahat Trikot mit der Nummer 34\n",
      "Der spieler Gautohat Trikot mit der Nummer 33\n",
      "Der spieler Essiamhat Trikot mit der Nummer 18\n",
      "Der spieler Kadehat Trikot mit der Nummer 30\n",
      "Der spieler Jovanovichat Trikot mit der Nummer 99\n"
     ]
    }
   ],
   "source": [
    "for index, name in enumerate(team):\n",
    "    spieler_nummer = team_nummer[index]\n",
    "    print('Der spieler ' + name + 'hat Trikot mit der Nummer '  + str(spieler_nummer))"
   ]
  },
  {
   "cell_type": "code",
   "execution_count": 16,
   "id": "aa29ebc1-bc2c-4157-85fa-38735113e8a8",
   "metadata": {},
   "outputs": [
    {
     "name": "stdout",
     "output_type": "stream",
     "text": [
      "20\n",
      "None\n"
     ]
    }
   ],
   "source": [
    "team_dict = dict(zip(team, team_nummer))\n",
    "print(team_dict['Frei'])\n",
    "## team_dict['Kayombo']\n",
    "print(team_dict.get('Kayombo'))"
   ]
  },
  {
   "cell_type": "code",
   "execution_count": 17,
   "id": "dbc8c513-1cdd-46e3-b041-f79177905682",
   "metadata": {},
   "outputs": [
    {
     "name": "stdout",
     "output_type": "stream",
     "text": [
      "Der spieler Hitzhat Trikot mit der Nummer 1\n",
      "Der spieler Schmidhat Trikot mit der Nummer 31\n",
      "Der spieler Freihat Trikot mit der Nummer 20\n",
      "Der spieler Van Breemenhat Trikot mit der Nummer 25\n",
      "Der spieler Drägerhat Trikot mit der Nummer 6\n",
      "Der spieler Veigahat Trikot mit der Nummer 40\n",
      "Der spieler Xhakahat Trikot mit der Nummer 34\n",
      "Der spieler Gautohat Trikot mit der Nummer 33\n",
      "Der spieler Essiamhat Trikot mit der Nummer 18\n",
      "Der spieler Kadehat Trikot mit der Nummer 30\n",
      "Der spieler Jovanovichat Trikot mit der Nummer 99\n"
     ]
    }
   ],
   "source": [
    "for key in team_dict.keys():\n",
    "    print('Der spieler ' + key + 'hat Trikot mit der Nummer '  + str(team_dict[key]))"
   ]
  },
  {
   "cell_type": "code",
   "execution_count": 18,
   "id": "fdffcdb2-4dee-4015-a8e9-8f91c47cb813",
   "metadata": {},
   "outputs": [
    {
     "name": "stdout",
     "output_type": "stream",
     "text": [
      "Der spieler Hitzhat Trikot mit der Nummer 1\n",
      "Der spieler Schmidhat Trikot mit der Nummer 31\n",
      "Der spieler Freihat Trikot mit der Nummer 20\n",
      "Der spieler Van Breemenhat Trikot mit der Nummer 25\n",
      "Der spieler Drägerhat Trikot mit der Nummer 6\n",
      "Der spieler Veigahat Trikot mit der Nummer 40\n",
      "Der spieler Xhakahat Trikot mit der Nummer 34\n",
      "Der spieler Gautohat Trikot mit der Nummer 33\n",
      "Der spieler Essiamhat Trikot mit der Nummer 18\n",
      "Der spieler Kadehat Trikot mit der Nummer 30\n",
      "Der spieler Jovanovichat Trikot mit der Nummer 99\n"
     ]
    }
   ],
   "source": [
    "for key, value in team_dict.items():\n",
    "    print('Der spieler ' + key + 'hat Trikot mit der Nummer '  + str(value))"
   ]
  },
  {
   "cell_type": "markdown",
   "id": "9985f328-b96c-428e-bc46-e18441094f68",
   "metadata": {},
   "source": [
    "## Funktion"
   ]
  },
  {
   "cell_type": "code",
   "execution_count": 19,
   "id": "53653327-a1ee-420d-a17a-30d997dfbe87",
   "metadata": {},
   "outputs": [
    {
     "name": "stdout",
     "output_type": "stream",
     "text": [
      "2\n",
      "1\n"
     ]
    }
   ],
   "source": [
    "def verdoppeln(x):\n",
    "    \"\"\"Die funktion verdoppelt deren Eigabe\n",
    "        x - Eine Zahl\n",
    "    \"\"\"\n",
    "    return x * 2\n",
    "\n",
    "x = 1\n",
    "print(verdoppeln(x))\n",
    "print(x)"
   ]
  },
  {
   "cell_type": "code",
   "execution_count": 20,
   "id": "7480359d-a353-4e0d-898a-0cbf4fdffaf9",
   "metadata": {},
   "outputs": [
    {
     "name": "stdout",
     "output_type": "stream",
     "text": [
      "Help on function verdoppeln in module __main__:\n",
      "\n",
      "verdoppeln(x)\n",
      "    Die funktion verdoppelt deren Eigabe\n",
      "    x - Eine Zahl\n",
      "\n"
     ]
    }
   ],
   "source": [
    "help(verdoppeln)"
   ]
  },
  {
   "cell_type": "code",
   "execution_count": 21,
   "id": "3cd5bdd6-4a9b-45b2-915a-c57e912d7fe6",
   "metadata": {},
   "outputs": [
    {
     "name": "stdout",
     "output_type": "stream",
     "text": [
      "0 0\n",
      "1 2\n",
      "2 4\n",
      "3 6\n",
      "4 8\n",
      "5 10\n",
      "6 12\n",
      "7 14\n",
      "8 16\n",
      "9 18\n"
     ]
    }
   ],
   "source": [
    "for i in range(10):\n",
    "    print(i, verdoppeln(i)) "
   ]
  },
  {
   "cell_type": "markdown",
   "id": "1a798b1b-c430-43d4-b10d-9ce021f22047",
   "metadata": {},
   "source": [
    "## Funktion mit mehreren Parametern und Kontrollkonstruten"
   ]
  },
  {
   "cell_type": "code",
   "execution_count": 22,
   "id": "3a8e4ab3-f0d3-4171-a4dc-7c30b800807b",
   "metadata": {},
   "outputs": [
    {
     "name": "stdout",
     "output_type": "stream",
     "text": [
      "Hello, Henry!\n",
      "Hallo, Henry!\n",
      "Grüezi, Henry!\n",
      "Salut, Guillaume!\n",
      "Es tut mir Leid, ich kann Chinese leider nicht.\n"
     ]
    }
   ],
   "source": [
    "greetings = {\n",
    "    'English': 'Hello',\n",
    "    'Deutsch': 'Hallo',\n",
    "    'Mundart': 'Grüezi',\n",
    "    'Francais': 'Salut'}\n",
    "\n",
    "def greet(name, language=None): ## name=Name, language=Sprache\n",
    "    if language is None:\n",
    "        language = 'English'\n",
    "    greeting = greetings.get(language)\n",
    "    if greeting is None:\n",
    "        print(\"Es tut mir Leid, ich kann \" + language + \" leider nicht.\")\n",
    "    else:\n",
    "        print(greeting + \", \" + name + \"!\")\n",
    "        \n",
    "greet(\"Henry\")\n",
    "greet(\"Henry\", language=\"Deutsch\")\n",
    "greet(\"Henry\", language=\"Mundart\")\n",
    "greet(\"Guillaume\", \"Francais\")\n",
    "\n",
    "greet(\"David\", \"Chinese\")"
   ]
  },
  {
   "cell_type": "markdown",
   "id": "fdf1f118-5cde-4aa9-a4d8-6df2ac214079",
   "metadata": {},
   "source": [
    "## Ein Spiel mit dem Collatz Problem"
   ]
  },
  {
   "cell_type": "code",
   "execution_count": 23,
   "id": "bb47328f-cc9a-4d16-bef8-642c82e6a500",
   "metadata": {},
   "outputs": [
    {
     "name": "stdout",
     "output_type": "stream",
     "text": [
      "13\n"
     ]
    }
   ],
   "source": [
    "def m3p1(x):\n",
    "    return x * 3 + 1\n",
    "\n",
    "print(m3p1(4))"
   ]
  },
  {
   "cell_type": "code",
   "execution_count": 24,
   "id": "8ea1d04d-6889-4a54-832b-8c448b57e78c",
   "metadata": {},
   "outputs": [
    {
     "name": "stdout",
     "output_type": "stream",
     "text": [
      "2\n"
     ]
    }
   ],
   "source": [
    "def halb(x):\n",
    "    return x//2\n",
    "\n",
    "print(halb(4))"
   ]
  },
  {
   "cell_type": "code",
   "execution_count": 25,
   "id": "7a18e8a2-caa0-45ed-98e7-e0aff168559a",
   "metadata": {},
   "outputs": [
    {
     "name": "stdout",
     "output_type": "stream",
     "text": [
      "False\n",
      "True\n"
     ]
    }
   ],
   "source": [
    "def ist_gerade(x):\n",
    "    return x % 2 == 0\n",
    "\n",
    "print(ist_gerade(5))\n",
    "print(ist_gerade(6))"
   ]
  },
  {
   "cell_type": "code",
   "execution_count": 26,
   "id": "ceb43465-fe8e-479d-8a72-097b16621151",
   "metadata": {},
   "outputs": [
    {
     "name": "stdout",
     "output_type": "stream",
     "text": [
      "15*3+1 =>\n",
      "46/2 =>\n",
      "23*3+1 =>\n",
      "70/2 =>\n",
      "35*3+1 =>\n",
      "106/2 =>\n",
      "53*3+1 =>\n",
      "160/2 =>\n",
      "80/2 =>\n",
      "40/2 =>\n",
      "20/2 =>\n",
      "10/2 =>\n",
      "5*3+1 =>\n",
      "16/2 =>\n",
      "8/2 =>\n",
      "4/2 =>\n",
      "2/2 =>\n",
      "1\n"
     ]
    }
   ],
   "source": [
    "x = 15\n",
    "while x != 1:\n",
    "    nachricht = str(x)\n",
    "    if ist_gerade(x):\n",
    "        nachricht += \"/2 =>\"\n",
    "        x = halb(x)\n",
    "    else:\n",
    "        nachricht += \"*3+1 =>\"\n",
    "        x = m3p1(x)\n",
    "    print(nachricht)\n",
    "print(x)"
   ]
  },
  {
   "cell_type": "code",
   "execution_count": 29,
   "id": "67cda4fa-d05a-45ad-9248-1bf40a4436e3",
   "metadata": {},
   "outputs": [
    {
     "name": "stdout",
     "output_type": "stream",
     "text": [
      "123456789,370370368,185185184,92592592,46296296,23148148,11574074,5787037,17361112,8680556,4340278,2170139,6510418,3255209,9765628,4882814,2441407,7324222,3662111,10986334,5493167,16479502,8239751,24719254,12359627,37078882,18539441,55618324,27809162,13904581,41713744,20856872,10428436,5214218,2607109,7821328,3910664,1955332,977666,488833,1466500,733250,366625,1099876,549938,274969,824908,412454,206227,618682,309341,928024,464012,232006,116003,348010,174005,522016,261008,130504,65252,32626,16313,48940,24470,12235,36706,18353,55060,27530,13765,41296,20648,10324,5162,2581,7744,3872,1936,968,484,242,121,364,182,91,274,137,412,206,103,310,155,466,233,700,350,175,526,263,790,395,1186,593,1780,890,445,1336,668,334,167,502,251,754,377,1132,566,283,850,425,1276,638,319,958,479,1438,719,2158,1079,3238,1619,4858,2429,7288,3644,1822,911,2734,1367,4102,2051,6154,3077,9232,4616,2308,1154,577,1732,866,433,1300,650,325,976,488,244,122,61,184,92,46,23,70,35,106,53,160,80,40,20,10,5,16,8,4,2,1\n"
     ]
    }
   ],
   "source": [
    "def collatz(x): \n",
    "    \"\"\"Eine Funktion für das Collatz-Problem oder die (3n+1) Vermutung, https://de.wikipedia.org/wiki/Collatz-Problem\"\"\"\n",
    "    nachricht = \"\"\n",
    "    while x != 1:\n",
    "        nachricht += str(x) + \",\"\n",
    "        if ist_gerade(x):\n",
    "            x = halb(x)\n",
    "        else:\n",
    "            x = m3p1(x)\n",
    "    nachricht += str(x)\n",
    "    print(nachricht)\n",
    "    \n",
    "collatz(123456789)"
   ]
  }
 ],
 "metadata": {
  "kernelspec": {
   "display_name": "Python 3 (ipykernel)",
   "language": "python",
   "name": "python3"
  },
  "language_info": {
   "codemirror_mode": {
    "name": "ipython",
    "version": 3
   },
   "file_extension": ".py",
   "mimetype": "text/x-python",
   "name": "python",
   "nbconvert_exporter": "python",
   "pygments_lexer": "ipython3",
   "version": "3.11.3"
  }
 },
 "nbformat": 4,
 "nbformat_minor": 5
}
