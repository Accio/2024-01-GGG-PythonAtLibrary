{
 "cells": [
  {
   "cell_type": "markdown",
   "metadata": {},
   "source": [
    "# Teil 2: Spiele mit Python"
   ]
  },
  {
   "cell_type": "markdown",
   "metadata": {},
   "source": [
    "## Liste"
   ]
  },
  {
   "cell_type": "code",
   "execution_count": 1,
   "metadata": {},
   "outputs": [
    {
     "name": "stdout",
     "output_type": "stream",
     "text": [
      "0\n"
     ]
    }
   ],
   "source": [
    "z = [0, 1, 2, 3]\n",
    "print(z[0])"
   ]
  },
  {
   "cell_type": "code",
   "execution_count": 2,
   "metadata": {},
   "outputs": [
    {
     "name": "stdout",
     "output_type": "stream",
     "text": [
      "C\n"
     ]
    }
   ],
   "source": [
    "team = 'FCB'\n",
    "print(team[1])"
   ]
  },
  {
   "cell_type": "code",
   "execution_count": 3,
   "metadata": {},
   "outputs": [
    {
     "name": "stdout",
     "output_type": "stream",
     "text": [
      "Tag\n"
     ]
    }
   ],
   "source": [
    "temp = \"Tag: 13.5; Nacht: 2.5\"\n",
    "print(temp[:3])"
   ]
  },
  {
   "cell_type": "code",
   "execution_count": 4,
   "metadata": {},
   "outputs": [
    {
     "name": "stdout",
     "output_type": "stream",
     "text": [
      "g\n",
      "Ta\n"
     ]
    }
   ],
   "source": [
    "print(temp[2])\n",
    "print(temp[:2])"
   ]
  },
  {
   "cell_type": "code",
   "execution_count": 5,
   "metadata": {},
   "outputs": [
    {
     "name": "stdout",
     "output_type": "stream",
     "text": [
      "Tag: 13.5; Nacht: \n"
     ]
    }
   ],
   "source": [
    "print(temp[:-3])"
   ]
  },
  {
   "cell_type": "code",
   "execution_count": 6,
   "metadata": {},
   "outputs": [
    {
     "name": "stdout",
     "output_type": "stream",
     "text": [
      "Tag: 13.5; Nach\n"
     ]
    }
   ],
   "source": [
    "print(temp[:-6])"
   ]
  },
  {
   "cell_type": "code",
   "execution_count": 7,
   "metadata": {},
   "outputs": [
    {
     "data": {
      "text/plain": [
       "48"
      ]
     },
     "execution_count": 7,
     "metadata": {},
     "output_type": "execute_result"
    }
   ],
   "source": [
    "40 + 8"
   ]
  },
  {
   "cell_type": "code",
   "execution_count": 8,
   "metadata": {},
   "outputs": [
    {
     "data": {
      "text/plain": [
       "'FCBasel'"
      ]
     },
     "execution_count": 8,
     "metadata": {},
     "output_type": "execute_result"
    }
   ],
   "source": [
    "\"FC\" + \"Basel\""
   ]
  },
  {
   "cell_type": "code",
   "execution_count": 9,
   "metadata": {},
   "outputs": [
    {
     "data": {
      "text/plain": [
       "'FC Basel'"
      ]
     },
     "execution_count": 9,
     "metadata": {},
     "output_type": "execute_result"
    }
   ],
   "source": [
    "\"FC\" + \" \" + \"Basel\""
   ]
  },
  {
   "cell_type": "code",
   "execution_count": 10,
   "metadata": {},
   "outputs": [
    {
     "data": {
      "text/plain": [
       "'FC Basel'"
      ]
     },
     "execution_count": 10,
     "metadata": {},
     "output_type": "execute_result"
    }
   ],
   "source": [
    "\"FC \" + \"Basel\"\n",
    "\"FC\" + \" Basel\""
   ]
  },
  {
   "cell_type": "code",
   "execution_count": 11,
   "metadata": {},
   "outputs": [
    {
     "name": "stdout",
     "output_type": "stream",
     "text": [
      "['Hitz', 'Lang', 'Schmid', 'Van Breemen', 'Dräger', 'Veiga', 'Xhaka', 'Gauto', 'Essiam', 'Kade', 'Jovanovic']\n"
     ]
    }
   ],
   "source": [
    "torwart = ['Hitz']\n",
    "verteidigung = ['Lang', 'Schmid', 'Van Breemen', 'Dräger']\n",
    "mittelfeld = ['Veiga', 'Xhaka', 'Gauto', 'Essiam']\n",
    "sturm = ['Kade', 'Jovanovic']\n",
    "team = torwart + verteidigung + mittelfeld + sturm\n",
    "print(team)"
   ]
  },
  {
   "cell_type": "code",
   "execution_count": 12,
   "metadata": {},
   "outputs": [
    {
     "name": "stdout",
     "output_type": "stream",
     "text": [
      "Heute spielt Hitz für den FCB\n",
      "Heute spielt Lang für den FCB\n",
      "Heute spielt Schmid für den FCB\n",
      "Heute spielt Van Breemen für den FCB\n",
      "Heute spielt Dräger für den FCB\n",
      "Heute spielt Veiga für den FCB\n",
      "Heute spielt Xhaka für den FCB\n",
      "Heute spielt Gauto für den FCB\n",
      "Heute spielt Essiam für den FCB\n",
      "Heute spielt Kade für den FCB\n",
      "Heute spielt Jovanovic für den FCB\n"
     ]
    }
   ],
   "source": [
    "for spieler in team:\n",
    "    print(\"Heute spielt \" + spieler + \" für den FCB\")"
   ]
  },
  {
   "cell_type": "code",
   "execution_count": 13,
   "metadata": {},
   "outputs": [
    {
     "name": "stdout",
     "output_type": "stream",
     "text": [
      "Lang\n",
      "Van Breemen\n",
      "Veiga\n",
      "Xhaka\n",
      "Gauto\n",
      "Essiam\n",
      "Kade\n",
      "Jovanovic\n"
     ]
    }
   ],
   "source": [
    "for spieler in team:\n",
    "    if \"a\" in spieler:\n",
    "        print(spieler)"
   ]
  },
  {
   "cell_type": "code",
   "execution_count": 14,
   "metadata": {},
   "outputs": [
    {
     "name": "stdout",
     "output_type": "stream",
     "text": [
      "Hitz\n",
      "Schmid\n",
      "Dräger\n"
     ]
    }
   ],
   "source": [
    "for spieler in team:\n",
    "    if not \"a\" in spieler:\n",
    "        print(spieler)"
   ]
  },
  {
   "cell_type": "code",
   "execution_count": 15,
   "metadata": {},
   "outputs": [
    {
     "name": "stdout",
     "output_type": "stream",
     "text": [
      "1540\n"
     ]
    }
   ],
   "source": [
    "s = 0\n",
    "for i in range(56):\n",
    "    s = s + i\n",
    "print(s)"
   ]
  },
  {
   "cell_type": "code",
   "execution_count": 16,
   "metadata": {},
   "outputs": [],
   "source": [
    "s = 0\n",
    "i = 0\n",
    "while i<56:\n",
    "    i = i + 1\n",
    "    s = s + i"
   ]
  },
  {
   "cell_type": "code",
   "execution_count": 17,
   "metadata": {},
   "outputs": [
    {
     "name": "stdout",
     "output_type": "stream",
     "text": [
      "56\n"
     ]
    }
   ],
   "source": [
    "print(i)"
   ]
  },
  {
   "cell_type": "code",
   "execution_count": 18,
   "metadata": {},
   "outputs": [
    {
     "name": "stdout",
     "output_type": "stream",
     "text": [
      "1596\n"
     ]
    }
   ],
   "source": [
    "print(s)"
   ]
  },
  {
   "cell_type": "code",
   "execution_count": 19,
   "metadata": {},
   "outputs": [
    {
     "name": "stdout",
     "output_type": "stream",
     "text": [
      "1\n",
      "2\n",
      "3\n",
      "4\n",
      "5\n"
     ]
    }
   ],
   "source": [
    "i = 0\n",
    "while i < 5:\n",
    "    i = i + 1\n",
    "    print(i)\n"
   ]
  },
  {
   "cell_type": "code",
   "execution_count": 20,
   "metadata": {},
   "outputs": [
    {
     "name": "stdout",
     "output_type": "stream",
     "text": [
      "4\n",
      "7\n",
      "10\n"
     ]
    }
   ],
   "source": [
    "def m3p1(x):\n",
    "    return x * 3 + 1\n",
    "\n",
    "print(m3p1(1))\n",
    "print(m3p1(2))\n",
    "print(m3p1(3))"
   ]
  },
  {
   "cell_type": "code",
   "execution_count": 21,
   "metadata": {},
   "outputs": [
    {
     "name": "stdout",
     "output_type": "stream",
     "text": [
      "2\n",
      "4\n"
     ]
    }
   ],
   "source": [
    "def halb(x):\n",
    "    return x // 2\n",
    "\n",
    "print(halb(4))\n",
    "print(halb(8))"
   ]
  },
  {
   "cell_type": "code",
   "execution_count": 22,
   "metadata": {},
   "outputs": [
    {
     "name": "stdout",
     "output_type": "stream",
     "text": [
      "True\n",
      "False\n"
     ]
    }
   ],
   "source": [
    "def ist_gerade(x):\n",
    "    return x % 2 == 0\n",
    "\n",
    "print(ist_gerade(4))\n",
    "print(ist_gerade(5))"
   ]
  },
  {
   "cell_type": "code",
   "execution_count": 23,
   "metadata": {},
   "outputs": [
    {
     "name": "stdout",
     "output_type": "stream",
     "text": [
      "13000,6500,3250,1625,4876,2438,1219,3658,1829,5488,2744,1372,686,343,1030,515,1546,773,2320,1160,580,290,145,436,218,109,328,164,82,41,124,62,31,94,47,142,71,214,107,322,161,484,242,121,364,182,91,274,137,412,206,103,310,155,466,233,700,350,175,526,263,790,395,1186,593,1780,890,445,1336,668,334,167,502,251,754,377,1132,566,283,850,425,1276,638,319,958,479,1438,719,2158,1079,3238,1619,4858,2429,7288,3644,1822,911,2734,1367,4102,2051,6154,3077,9232,4616,2308,1154,577,1732,866,433,1300,650,325,976,488,244,122,61,184,92,46,23,70,35,106,53,160,80,40,20,10,5,16,8,4,2,1\n"
     ]
    }
   ],
   "source": [
    "def collatz(x):\n",
    "    nachricht = \"\"\n",
    "    while x != 1:\n",
    "        nachricht = nachricht + str(x) + \",\"\n",
    "        if ist_gerade(x):\n",
    "            x = halb(x)\n",
    "        else:\n",
    "            x = m3p1(x)\n",
    "    nachricht = nachricht + str(x)\n",
    "    print(nachricht)\n",
    "\n",
    "collatz(13000)"
   ]
  },
  {
   "cell_type": "code",
   "execution_count": null,
   "metadata": {},
   "outputs": [],
   "source": []
  }
 ],
 "metadata": {
  "kernelspec": {
   "display_name": "Python 3 (ipykernel)",
   "language": "python",
   "name": "python3"
  },
  "language_info": {
   "codemirror_mode": {
    "name": "ipython",
    "version": 3
   },
   "file_extension": ".py",
   "mimetype": "text/x-python",
   "name": "python",
   "nbconvert_exporter": "python",
   "pygments_lexer": "ipython3",
   "version": "3.11.3"
  }
 },
 "nbformat": 4,
 "nbformat_minor": 4
}
