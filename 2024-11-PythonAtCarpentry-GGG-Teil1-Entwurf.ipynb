{
 "cells": [
  {
   "cell_type": "markdown",
   "id": "363a89a3-d29d-4bdc-8118-8845f47705ee",
   "metadata": {},
   "source": [
    "# Zukunftstag 2023\n",
    "\n",
    "Jitao David Zhang, November 2023"
   ]
  },
  {
   "cell_type": "markdown",
   "id": "63655593-c0f2-4e54-8ad3-1a791d7bad69",
   "metadata": {},
   "source": [
    "Wir lernen gemeinsam Jupyter Lab kennen mit eine simulierte klinische Studie. Wir werden die Daten mit Jupyter Notebook analysieren und visualisieren, und die Daten gemeinsam interpretieren.\n",
    "\n",
    "Die Code wurde auf [jupyter.org/try-jupyter](https://jupyter.org/try-jupyter) getestet. Man braucht nur eine Web-browser, um das Program durchzuführen."
   ]
  },
  {
   "cell_type": "markdown",
   "id": "543f8809-5d66-4121-b032-cde4eb672284",
   "metadata": {},
   "source": [
    "## Sicherstellen, dass Jupyter funktioniert"
   ]
  },
  {
   "cell_type": "code",
   "execution_count": 1,
   "id": "3417144d-37e9-46b9-b17d-1420b5ac885c",
   "metadata": {},
   "outputs": [
    {
     "data": {
      "text/plain": [
       "12"
      ]
     },
     "execution_count": 1,
     "metadata": {},
     "output_type": "execute_result"
    }
   ],
   "source": [
    "3 + 9"
   ]
  },
  {
   "cell_type": "code",
   "execution_count": 2,
   "id": "ed84d115-478d-485f-83db-5f97df1cf54d",
   "metadata": {},
   "outputs": [
    {
     "data": {
      "text/plain": [
       "3.0"
      ]
     },
     "execution_count": 2,
     "metadata": {},
     "output_type": "execute_result"
    }
   ],
   "source": [
    "9/3"
   ]
  },
  {
   "cell_type": "code",
   "execution_count": 3,
   "id": "aba781fa-ea66-4fe3-b9e5-d8abb1115be6",
   "metadata": {},
   "outputs": [
    {
     "name": "stdout",
     "output_type": "stream",
     "text": [
      "Hello, David\n"
     ]
    }
   ],
   "source": [
    "my_name = \"David\"\n",
    "welcome = \"Hello, \" + my_name\n",
    "print(welcome)"
   ]
  },
  {
   "cell_type": "code",
   "execution_count": 4,
   "id": "e5c03bde-7b8d-40ac-a247-13c058beaa24",
   "metadata": {},
   "outputs": [],
   "source": [
    "import numpy as np"
   ]
  },
  {
   "cell_type": "code",
   "execution_count": 5,
   "id": "f3f424ed-f71b-4634-a645-ae117b35aedd",
   "metadata": {},
   "outputs": [
    {
     "data": {
      "text/plain": [
       "45"
      ]
     },
     "execution_count": 5,
     "metadata": {},
     "output_type": "execute_result"
    }
   ],
   "source": [
    "my_numbers = range(1, 10)\n",
    "np.sum(my_numbers)"
   ]
  },
  {
   "cell_type": "code",
   "execution_count": 6,
   "id": "599c505b-1c93-473f-b167-7fe32effaaa6",
   "metadata": {},
   "outputs": [
    {
     "data": {
      "text/plain": [
       "4950"
      ]
     },
     "execution_count": 6,
     "metadata": {},
     "output_type": "execute_result"
    }
   ],
   "source": [
    "my_numbers_2 = range(1, 100)\n",
    "np.sum(my_numbers_2)"
   ]
  },
  {
   "cell_type": "markdown",
   "id": "a5991a26-92b9-4c07-8445-0fcc2186c6d0",
   "metadata": {},
   "source": [
    "# Eine klinische Studie simulieren"
   ]
  },
  {
   "cell_type": "code",
   "execution_count": 7,
   "id": "f5c9f8f1-42a7-4024-8006-88ac9fc1395d",
   "metadata": {},
   "outputs": [],
   "source": [
    "import pandas as pd"
   ]
  },
  {
   "cell_type": "code",
   "execution_count": 8,
   "id": "e92b98b9-b200-45a9-83f0-2baaad8e3bda",
   "metadata": {},
   "outputs": [],
   "source": [
    "np.random.seed(20240126)"
   ]
  },
  {
   "cell_type": "code",
   "execution_count": 9,
   "id": "a6091a55-212f-4d84-8756-e50e39e82491",
   "metadata": {},
   "outputs": [
    {
     "data": {
      "text/plain": [
       "24"
      ]
     },
     "execution_count": 9,
     "metadata": {},
     "output_type": "execute_result"
    }
   ],
   "source": [
    "names = [\"Emma\", \"Olivia\", \"Emily\", \"James\", \"Daniel\",\n",
    "         \"Benjamin\", \"Alexander\", \n",
    "         \"Isabella\", \"Thomas\", \"Sarah\", \"Charlotte\", \"Elizabeth\",\n",
    "         \"Liam\", \"Mia\", \"Ethan\", \"Ella\", \"Sophia\", \"Joshua\", \"Oliver\",\n",
    "         \"Anna\", \"Lena\", \"Laila\", \"Emma\", \"Karl\"]\n",
    "len(names)"
   ]
  },
  {
   "cell_type": "code",
   "execution_count": 10,
   "id": "3760f8e2-b7a4-4763-ad35-cc8e11bfce14",
   "metadata": {},
   "outputs": [],
   "source": [
    "pre_g0 = np.random.normal(8, 1, size=8)\n",
    "post_g0 = np.random.normal(8, 1, size=8)\n",
    "pre_g1 = np.random.normal(8, 1, size=8)\n",
    "post_g1 = np.random.normal(6, 1, size=8)\n",
    "pre_g2 = np.random.normal(8, 1, size=8)\n",
    "post_g2 = np.random.normal(4, 1, size=8)\n",
    "pre_all = np.round(np.clip(np.concatenate((pre_g0, pre_g1, pre_g2), axis=None), 0, 10), 1)\n",
    "post_all = np.round(np.clip(np.concatenate((post_g0, post_g1, post_g2), axis=None), 0, 10))"
   ]
  },
  {
   "cell_type": "code",
   "execution_count": 11,
   "id": "94f7b5a6-6cd8-4d0a-b9f2-6213bb03460f",
   "metadata": {},
   "outputs": [],
   "source": [
    "treatments = np.concatenate(([\"PilleA\"] * 8, [\"PilleB\"] * 8, [\"PilleC\"] * 8), axis=None)"
   ]
  },
  {
   "cell_type": "code",
   "execution_count": 12,
   "id": "1733c1f4-3567-4e52-8580-13381d2ea315",
   "metadata": {},
   "outputs": [],
   "source": [
    "trial_data = pd.DataFrame({\"Name\":names,\n",
    "                          \"Behandlung\": treatments,\n",
    "                          \"Vor\": pre_all,\n",
    "                          \"Nach\": post_all},\n",
    "                         index=names)"
   ]
  },
  {
   "cell_type": "code",
   "execution_count": 13,
   "id": "f2925a58-e98d-4d00-9cf4-90ef04302239",
   "metadata": {},
   "outputs": [
    {
     "name": "stdout",
     "output_type": "stream",
     "text": [
      "                Name Behandlung   Vor  Nach\n",
      "Emma            Emma     PilleA   8.2   6.0\n",
      "Olivia        Olivia     PilleA   8.4   7.0\n",
      "Emily          Emily     PilleA   8.3   8.0\n",
      "James          James     PilleA  10.0   7.0\n",
      "Daniel        Daniel     PilleA   7.8   7.0\n",
      "Benjamin    Benjamin     PilleA   6.9   7.0\n",
      "Alexander  Alexander     PilleA  10.0   7.0\n",
      "Isabella    Isabella     PilleA   7.6   7.0\n",
      "Thomas        Thomas     PilleB   8.6   5.0\n",
      "Sarah          Sarah     PilleB   7.9   6.0\n",
      "Charlotte  Charlotte     PilleB   8.6   6.0\n",
      "Elizabeth  Elizabeth     PilleB   9.6   8.0\n",
      "Liam            Liam     PilleB   8.9   6.0\n",
      "Mia              Mia     PilleB   8.6   4.0\n",
      "Ethan          Ethan     PilleB   8.9   5.0\n",
      "Ella            Ella     PilleB   9.0   7.0\n",
      "Sophia        Sophia     PilleC   9.3   4.0\n",
      "Joshua        Joshua     PilleC   8.7   4.0\n",
      "Oliver        Oliver     PilleC   8.5   4.0\n",
      "Anna            Anna     PilleC   6.7   4.0\n",
      "Lena            Lena     PilleC   6.8   3.0\n",
      "Laila          Laila     PilleC   7.4   3.0\n",
      "Emma            Emma     PilleC  10.0   4.0\n",
      "Karl            Karl     PilleC   9.3   4.0\n"
     ]
    }
   ],
   "source": [
    "print(trial_data)"
   ]
  },
  {
   "cell_type": "code",
   "execution_count": 14,
   "id": "f94e3880-ca35-4655-8ed3-c02d3b4020fa",
   "metadata": {},
   "outputs": [
    {
     "data": {
      "text/html": [
       "<div>\n",
       "<style scoped>\n",
       "    .dataframe tbody tr th:only-of-type {\n",
       "        vertical-align: middle;\n",
       "    }\n",
       "\n",
       "    .dataframe tbody tr th {\n",
       "        vertical-align: top;\n",
       "    }\n",
       "\n",
       "    .dataframe thead th {\n",
       "        text-align: right;\n",
       "    }\n",
       "</style>\n",
       "<table border=\"1\" class=\"dataframe\">\n",
       "  <thead>\n",
       "    <tr style=\"text-align: right;\">\n",
       "      <th></th>\n",
       "      <th>Name</th>\n",
       "      <th>Behandlung</th>\n",
       "      <th>Vor</th>\n",
       "      <th>Nach</th>\n",
       "    </tr>\n",
       "  </thead>\n",
       "  <tbody>\n",
       "    <tr>\n",
       "      <th>Alexander</th>\n",
       "      <td>Alexander</td>\n",
       "      <td>PilleA</td>\n",
       "      <td>10.0</td>\n",
       "      <td>7.0</td>\n",
       "    </tr>\n",
       "    <tr>\n",
       "      <th>Benjamin</th>\n",
       "      <td>Benjamin</td>\n",
       "      <td>PilleA</td>\n",
       "      <td>6.9</td>\n",
       "      <td>7.0</td>\n",
       "    </tr>\n",
       "    <tr>\n",
       "      <th>Daniel</th>\n",
       "      <td>Daniel</td>\n",
       "      <td>PilleA</td>\n",
       "      <td>7.8</td>\n",
       "      <td>7.0</td>\n",
       "    </tr>\n",
       "    <tr>\n",
       "      <th>Emily</th>\n",
       "      <td>Emily</td>\n",
       "      <td>PilleA</td>\n",
       "      <td>8.3</td>\n",
       "      <td>8.0</td>\n",
       "    </tr>\n",
       "    <tr>\n",
       "      <th>Emma</th>\n",
       "      <td>Emma</td>\n",
       "      <td>PilleA</td>\n",
       "      <td>8.2</td>\n",
       "      <td>6.0</td>\n",
       "    </tr>\n",
       "    <tr>\n",
       "      <th>Isabella</th>\n",
       "      <td>Isabella</td>\n",
       "      <td>PilleA</td>\n",
       "      <td>7.6</td>\n",
       "      <td>7.0</td>\n",
       "    </tr>\n",
       "    <tr>\n",
       "      <th>James</th>\n",
       "      <td>James</td>\n",
       "      <td>PilleA</td>\n",
       "      <td>10.0</td>\n",
       "      <td>7.0</td>\n",
       "    </tr>\n",
       "    <tr>\n",
       "      <th>Olivia</th>\n",
       "      <td>Olivia</td>\n",
       "      <td>PilleA</td>\n",
       "      <td>8.4</td>\n",
       "      <td>7.0</td>\n",
       "    </tr>\n",
       "    <tr>\n",
       "      <th>Charlotte</th>\n",
       "      <td>Charlotte</td>\n",
       "      <td>PilleB</td>\n",
       "      <td>8.6</td>\n",
       "      <td>6.0</td>\n",
       "    </tr>\n",
       "    <tr>\n",
       "      <th>Elizabeth</th>\n",
       "      <td>Elizabeth</td>\n",
       "      <td>PilleB</td>\n",
       "      <td>9.6</td>\n",
       "      <td>8.0</td>\n",
       "    </tr>\n",
       "    <tr>\n",
       "      <th>Ella</th>\n",
       "      <td>Ella</td>\n",
       "      <td>PilleB</td>\n",
       "      <td>9.0</td>\n",
       "      <td>7.0</td>\n",
       "    </tr>\n",
       "    <tr>\n",
       "      <th>Ethan</th>\n",
       "      <td>Ethan</td>\n",
       "      <td>PilleB</td>\n",
       "      <td>8.9</td>\n",
       "      <td>5.0</td>\n",
       "    </tr>\n",
       "    <tr>\n",
       "      <th>Liam</th>\n",
       "      <td>Liam</td>\n",
       "      <td>PilleB</td>\n",
       "      <td>8.9</td>\n",
       "      <td>6.0</td>\n",
       "    </tr>\n",
       "    <tr>\n",
       "      <th>Mia</th>\n",
       "      <td>Mia</td>\n",
       "      <td>PilleB</td>\n",
       "      <td>8.6</td>\n",
       "      <td>4.0</td>\n",
       "    </tr>\n",
       "    <tr>\n",
       "      <th>Sarah</th>\n",
       "      <td>Sarah</td>\n",
       "      <td>PilleB</td>\n",
       "      <td>7.9</td>\n",
       "      <td>6.0</td>\n",
       "    </tr>\n",
       "    <tr>\n",
       "      <th>Thomas</th>\n",
       "      <td>Thomas</td>\n",
       "      <td>PilleB</td>\n",
       "      <td>8.6</td>\n",
       "      <td>5.0</td>\n",
       "    </tr>\n",
       "    <tr>\n",
       "      <th>Anna</th>\n",
       "      <td>Anna</td>\n",
       "      <td>PilleC</td>\n",
       "      <td>6.7</td>\n",
       "      <td>4.0</td>\n",
       "    </tr>\n",
       "    <tr>\n",
       "      <th>Emma</th>\n",
       "      <td>Emma</td>\n",
       "      <td>PilleC</td>\n",
       "      <td>10.0</td>\n",
       "      <td>4.0</td>\n",
       "    </tr>\n",
       "    <tr>\n",
       "      <th>Joshua</th>\n",
       "      <td>Joshua</td>\n",
       "      <td>PilleC</td>\n",
       "      <td>8.7</td>\n",
       "      <td>4.0</td>\n",
       "    </tr>\n",
       "    <tr>\n",
       "      <th>Karl</th>\n",
       "      <td>Karl</td>\n",
       "      <td>PilleC</td>\n",
       "      <td>9.3</td>\n",
       "      <td>4.0</td>\n",
       "    </tr>\n",
       "    <tr>\n",
       "      <th>Laila</th>\n",
       "      <td>Laila</td>\n",
       "      <td>PilleC</td>\n",
       "      <td>7.4</td>\n",
       "      <td>3.0</td>\n",
       "    </tr>\n",
       "    <tr>\n",
       "      <th>Lena</th>\n",
       "      <td>Lena</td>\n",
       "      <td>PilleC</td>\n",
       "      <td>6.8</td>\n",
       "      <td>3.0</td>\n",
       "    </tr>\n",
       "    <tr>\n",
       "      <th>Oliver</th>\n",
       "      <td>Oliver</td>\n",
       "      <td>PilleC</td>\n",
       "      <td>8.5</td>\n",
       "      <td>4.0</td>\n",
       "    </tr>\n",
       "    <tr>\n",
       "      <th>Sophia</th>\n",
       "      <td>Sophia</td>\n",
       "      <td>PilleC</td>\n",
       "      <td>9.3</td>\n",
       "      <td>4.0</td>\n",
       "    </tr>\n",
       "  </tbody>\n",
       "</table>\n",
       "</div>"
      ],
      "text/plain": [
       "                Name Behandlung   Vor  Nach\n",
       "Alexander  Alexander     PilleA  10.0   7.0\n",
       "Benjamin    Benjamin     PilleA   6.9   7.0\n",
       "Daniel        Daniel     PilleA   7.8   7.0\n",
       "Emily          Emily     PilleA   8.3   8.0\n",
       "Emma            Emma     PilleA   8.2   6.0\n",
       "Isabella    Isabella     PilleA   7.6   7.0\n",
       "James          James     PilleA  10.0   7.0\n",
       "Olivia        Olivia     PilleA   8.4   7.0\n",
       "Charlotte  Charlotte     PilleB   8.6   6.0\n",
       "Elizabeth  Elizabeth     PilleB   9.6   8.0\n",
       "Ella            Ella     PilleB   9.0   7.0\n",
       "Ethan          Ethan     PilleB   8.9   5.0\n",
       "Liam            Liam     PilleB   8.9   6.0\n",
       "Mia              Mia     PilleB   8.6   4.0\n",
       "Sarah          Sarah     PilleB   7.9   6.0\n",
       "Thomas        Thomas     PilleB   8.6   5.0\n",
       "Anna            Anna     PilleC   6.7   4.0\n",
       "Emma            Emma     PilleC  10.0   4.0\n",
       "Joshua        Joshua     PilleC   8.7   4.0\n",
       "Karl            Karl     PilleC   9.3   4.0\n",
       "Laila          Laila     PilleC   7.4   3.0\n",
       "Lena            Lena     PilleC   6.8   3.0\n",
       "Oliver        Oliver     PilleC   8.5   4.0\n",
       "Sophia        Sophia     PilleC   9.3   4.0"
      ]
     },
     "execution_count": 14,
     "metadata": {},
     "output_type": "execute_result"
    }
   ],
   "source": [
    "trial_data.sort_values(by=[\"Behandlung\", \"Name\"])"
   ]
  },
  {
   "cell_type": "markdown",
   "id": "a1424dbe-92e7-4661-bbcd-40407f12e4f4",
   "metadata": {},
   "source": [
    "## Wie kann man eine Liste von Angaben in einer DateFrame umwandeln?"
   ]
  },
  {
   "cell_type": "code",
   "execution_count": 15,
   "id": "701fdad4-d069-4bf9-9d59-6558dcd27efa",
   "metadata": {},
   "outputs": [
    {
     "data": {
      "text/html": [
       "<div>\n",
       "<style scoped>\n",
       "    .dataframe tbody tr th:only-of-type {\n",
       "        vertical-align: middle;\n",
       "    }\n",
       "\n",
       "    .dataframe tbody tr th {\n",
       "        vertical-align: top;\n",
       "    }\n",
       "\n",
       "    .dataframe thead th {\n",
       "        text-align: right;\n",
       "    }\n",
       "</style>\n",
       "<table border=\"1\" class=\"dataframe\">\n",
       "  <thead>\n",
       "    <tr style=\"text-align: right;\">\n",
       "      <th></th>\n",
       "      <th>Name</th>\n",
       "      <th>Behandlung</th>\n",
       "      <th>Vor</th>\n",
       "      <th>Nach</th>\n",
       "    </tr>\n",
       "  </thead>\n",
       "  <tbody>\n",
       "    <tr>\n",
       "      <th>David</th>\n",
       "      <td>David</td>\n",
       "      <td>PilleA</td>\n",
       "      <td>4.7</td>\n",
       "      <td>4.5</td>\n",
       "    </tr>\n",
       "    <tr>\n",
       "      <th>Emma</th>\n",
       "      <td>Emma</td>\n",
       "      <td>PilleB</td>\n",
       "      <td>4.5</td>\n",
       "      <td>4.0</td>\n",
       "    </tr>\n",
       "    <tr>\n",
       "      <th>Matteo</th>\n",
       "      <td>Matteo</td>\n",
       "      <td>PilleC</td>\n",
       "      <td>4.5</td>\n",
       "      <td>4.0</td>\n",
       "    </tr>\n",
       "  </tbody>\n",
       "</table>\n",
       "</div>"
      ],
      "text/plain": [
       "          Name Behandlung  Vor  Nach\n",
       "David    David     PilleA  4.7   4.5\n",
       "Emma      Emma     PilleB  4.5   4.0\n",
       "Matteo  Matteo     PilleC  4.5   4.0"
      ]
     },
     "execution_count": 15,
     "metadata": {},
     "output_type": "execute_result"
    }
   ],
   "source": [
    "person1 = ['David', 'PilleA', 4.7, 4.5]\n",
    "person2 = ['Emma', 'PilleB', 4.5, 4]\n",
    "person3 = ['Matteo', 'PilleC', 4.5, 4]\n",
    "person_df = pd.DataFrame([person1, person2, person3],\n",
    "            columns=['Name', 'Behandlung', 'Vor', 'Nach'])\n",
    "person_df.index = person_df[\"Name\"].tolist()\n",
    "person_df"
   ]
  },
  {
   "cell_type": "markdown",
   "id": "c15cc6e7-55b2-4146-be2e-f727849393e1",
   "metadata": {},
   "source": [
    "## Die Daten mit Abbildungen darstellen"
   ]
  },
  {
   "cell_type": "code",
   "execution_count": 16,
   "id": "4221ab0b-9220-4bc7-8b08-e8fffc4351a3",
   "metadata": {},
   "outputs": [],
   "source": [
    "import matplotlib.style as style\n",
    "import matplotlib.pyplot as plt\n",
    "style.use(\"fast\")"
   ]
  },
  {
   "cell_type": "code",
   "execution_count": 17,
   "id": "7af0278b-6c06-4337-a818-c918ccc4d1cc",
   "metadata": {},
   "outputs": [
    {
     "data": {
      "image/png": "[encoded data removed]",
      "text/plain": [
       "<Figure size 640x480 with 1 Axes>"
      ]
     },
     "metadata": {},
     "output_type": "display_data"
    }
   ],
   "source": [
    "ax = trial_data.plot.bar()\n",
    "plt.xlabel(\"Teilnehmer\")\n",
    "plt.ylabel(\"Schmerzskala\")\n",
    "plt.show()"
   ]
  },
  {
   "cell_type": "code",
   "execution_count": 18,
   "id": "2809799c-68cd-4486-96cd-77f642163c8d",
   "metadata": {},
   "outputs": [
    {
     "data": {
      "image/png": "[encoded data removed]",
      "text/plain": [
       "<Figure size 640x480 with 1 Axes>"
      ]
     },
     "metadata": {},
     "output_type": "display_data"
    }
   ],
   "source": [
    "ax = trial_data.sort_values(['Behandlung', 'Name']).plot.line(rot=90)\n",
    "ax.set_xticks(range(len(trial_data['Name'])))\n",
    "ax.set_xticklabels(trial_data['Name'])\n",
    "plt.show()"
   ]
  },
  {
   "cell_type": "code",
   "execution_count": 19,
   "id": "257802d6-1fd3-47f1-a4c8-48a326409901",
   "metadata": {},
   "outputs": [
    {
     "data": {
      "text/plain": [
       "<Axes: >"
      ]
     },
     "execution_count": 19,
     "metadata": {},
     "output_type": "execute_result"
    },
    {
     "data": {
      "image/png": "[encoded data removed]",
      "text/plain": [
       "<Figure size 640x480 with 1 Axes>"
      ]
     },
     "metadata": {},
     "output_type": "display_data"
    }
   ],
   "source": [
    "trial_data.sort_values(by=[\"Behandlung\", \"Name\"]).plot.bar()"
   ]
  },
  {
   "cell_type": "code",
   "execution_count": 20,
   "id": "deb03989-0741-493e-9bdf-4630cebcc2d8",
   "metadata": {},
   "outputs": [
    {
     "data": {
      "image/png": "[encoded data removed]",
      "text/plain": [
       "<Figure size 640x480 with 2 Axes>"
      ]
     },
     "metadata": {},
     "output_type": "display_data"
    }
   ],
   "source": [
    "trial_data.boxplot(column=[\"Vor\", \"Nach\"], by=\"Behandlung\")\n",
    "plt.show()"
   ]
  },
  {
   "cell_type": "markdown",
   "id": "1902c709-3dd3-4756-bfe8-3dfd7a470d43",
   "metadata": {},
   "source": [
    "## Mit den Daten arbeiten"
   ]
  },
  {
   "cell_type": "code",
   "execution_count": 21,
   "id": "4cf17ae5-9427-49a4-b5b9-de5d2688390e",
   "metadata": {},
   "outputs": [
    {
     "name": "stdout",
     "output_type": "stream",
     "text": [
      "                Name Behandlung   Vor  Nach  Unterschied\n",
      "Emma            Emma     PilleA   8.2   6.0         -2.2\n",
      "Olivia        Olivia     PilleA   8.4   7.0         -1.4\n",
      "Emily          Emily     PilleA   8.3   8.0         -0.3\n",
      "James          James     PilleA  10.0   7.0         -3.0\n",
      "Daniel        Daniel     PilleA   7.8   7.0         -0.8\n",
      "Benjamin    Benjamin     PilleA   6.9   7.0          0.1\n",
      "Alexander  Alexander     PilleA  10.0   7.0         -3.0\n",
      "Isabella    Isabella     PilleA   7.6   7.0         -0.6\n",
      "Thomas        Thomas     PilleB   8.6   5.0         -3.6\n",
      "Sarah          Sarah     PilleB   7.9   6.0         -1.9\n",
      "Charlotte  Charlotte     PilleB   8.6   6.0         -2.6\n",
      "Elizabeth  Elizabeth     PilleB   9.6   8.0         -1.6\n",
      "Liam            Liam     PilleB   8.9   6.0         -2.9\n",
      "Mia              Mia     PilleB   8.6   4.0         -4.6\n",
      "Ethan          Ethan     PilleB   8.9   5.0         -3.9\n",
      "Ella            Ella     PilleB   9.0   7.0         -2.0\n",
      "Sophia        Sophia     PilleC   9.3   4.0         -5.3\n",
      "Joshua        Joshua     PilleC   8.7   4.0         -4.7\n",
      "Oliver        Oliver     PilleC   8.5   4.0         -4.5\n",
      "Anna            Anna     PilleC   6.7   4.0         -2.7\n",
      "Lena            Lena     PilleC   6.8   3.0         -3.8\n",
      "Laila          Laila     PilleC   7.4   3.0         -4.4\n",
      "Emma            Emma     PilleC  10.0   4.0         -6.0\n",
      "Karl            Karl     PilleC   9.3   4.0         -5.3\n"
     ]
    }
   ],
   "source": [
    "trial_data[\"Unterschied\"] = trial_data[\"Nach\"] - trial_data[\"Vor\"]\n",
    "print(trial_data)"
   ]
  },
  {
   "cell_type": "code",
   "execution_count": 22,
   "id": "2925e4a2-96e4-4b11-81bc-dec7d5db1406",
   "metadata": {},
   "outputs": [
    {
     "data": {
      "text/html": [
       "<div>\n",
       "<style scoped>\n",
       "    .dataframe tbody tr th:only-of-type {\n",
       "        vertical-align: middle;\n",
       "    }\n",
       "\n",
       "    .dataframe tbody tr th {\n",
       "        vertical-align: top;\n",
       "    }\n",
       "\n",
       "    .dataframe thead th {\n",
       "        text-align: right;\n",
       "    }\n",
       "</style>\n",
       "<table border=\"1\" class=\"dataframe\">\n",
       "  <thead>\n",
       "    <tr style=\"text-align: right;\">\n",
       "      <th></th>\n",
       "      <th>Name</th>\n",
       "      <th>Behandlung</th>\n",
       "      <th>Vor</th>\n",
       "      <th>Nach</th>\n",
       "      <th>Unterschied</th>\n",
       "    </tr>\n",
       "  </thead>\n",
       "  <tbody>\n",
       "    <tr>\n",
       "      <th>Benjamin</th>\n",
       "      <td>Benjamin</td>\n",
       "      <td>PilleA</td>\n",
       "      <td>6.9</td>\n",
       "      <td>7.0</td>\n",
       "      <td>0.1</td>\n",
       "    </tr>\n",
       "    <tr>\n",
       "      <th>Emily</th>\n",
       "      <td>Emily</td>\n",
       "      <td>PilleA</td>\n",
       "      <td>8.3</td>\n",
       "      <td>8.0</td>\n",
       "      <td>-0.3</td>\n",
       "    </tr>\n",
       "    <tr>\n",
       "      <th>Isabella</th>\n",
       "      <td>Isabella</td>\n",
       "      <td>PilleA</td>\n",
       "      <td>7.6</td>\n",
       "      <td>7.0</td>\n",
       "      <td>-0.6</td>\n",
       "    </tr>\n",
       "    <tr>\n",
       "      <th>Daniel</th>\n",
       "      <td>Daniel</td>\n",
       "      <td>PilleA</td>\n",
       "      <td>7.8</td>\n",
       "      <td>7.0</td>\n",
       "      <td>-0.8</td>\n",
       "    </tr>\n",
       "    <tr>\n",
       "      <th>Olivia</th>\n",
       "      <td>Olivia</td>\n",
       "      <td>PilleA</td>\n",
       "      <td>8.4</td>\n",
       "      <td>7.0</td>\n",
       "      <td>-1.4</td>\n",
       "    </tr>\n",
       "    <tr>\n",
       "      <th>Elizabeth</th>\n",
       "      <td>Elizabeth</td>\n",
       "      <td>PilleB</td>\n",
       "      <td>9.6</td>\n",
       "      <td>8.0</td>\n",
       "      <td>-1.6</td>\n",
       "    </tr>\n",
       "    <tr>\n",
       "      <th>Sarah</th>\n",
       "      <td>Sarah</td>\n",
       "      <td>PilleB</td>\n",
       "      <td>7.9</td>\n",
       "      <td>6.0</td>\n",
       "      <td>-1.9</td>\n",
       "    </tr>\n",
       "    <tr>\n",
       "      <th>Ella</th>\n",
       "      <td>Ella</td>\n",
       "      <td>PilleB</td>\n",
       "      <td>9.0</td>\n",
       "      <td>7.0</td>\n",
       "      <td>-2.0</td>\n",
       "    </tr>\n",
       "    <tr>\n",
       "      <th>Emma</th>\n",
       "      <td>Emma</td>\n",
       "      <td>PilleA</td>\n",
       "      <td>8.2</td>\n",
       "      <td>6.0</td>\n",
       "      <td>-2.2</td>\n",
       "    </tr>\n",
       "    <tr>\n",
       "      <th>Charlotte</th>\n",
       "      <td>Charlotte</td>\n",
       "      <td>PilleB</td>\n",
       "      <td>8.6</td>\n",
       "      <td>6.0</td>\n",
       "      <td>-2.6</td>\n",
       "    </tr>\n",
       "    <tr>\n",
       "      <th>Anna</th>\n",
       "      <td>Anna</td>\n",
       "      <td>PilleC</td>\n",
       "      <td>6.7</td>\n",
       "      <td>4.0</td>\n",
       "      <td>-2.7</td>\n",
       "    </tr>\n",
       "    <tr>\n",
       "      <th>Liam</th>\n",
       "      <td>Liam</td>\n",
       "      <td>PilleB</td>\n",
       "      <td>8.9</td>\n",
       "      <td>6.0</td>\n",
       "      <td>-2.9</td>\n",
       "    </tr>\n",
       "    <tr>\n",
       "      <th>Alexander</th>\n",
       "      <td>Alexander</td>\n",
       "      <td>PilleA</td>\n",
       "      <td>10.0</td>\n",
       "      <td>7.0</td>\n",
       "      <td>-3.0</td>\n",
       "    </tr>\n",
       "    <tr>\n",
       "      <th>James</th>\n",
       "      <td>James</td>\n",
       "      <td>PilleA</td>\n",
       "      <td>10.0</td>\n",
       "      <td>7.0</td>\n",
       "      <td>-3.0</td>\n",
       "    </tr>\n",
       "    <tr>\n",
       "      <th>Thomas</th>\n",
       "      <td>Thomas</td>\n",
       "      <td>PilleB</td>\n",
       "      <td>8.6</td>\n",
       "      <td>5.0</td>\n",
       "      <td>-3.6</td>\n",
       "    </tr>\n",
       "    <tr>\n",
       "      <th>Lena</th>\n",
       "      <td>Lena</td>\n",
       "      <td>PilleC</td>\n",
       "      <td>6.8</td>\n",
       "      <td>3.0</td>\n",
       "      <td>-3.8</td>\n",
       "    </tr>\n",
       "    <tr>\n",
       "      <th>Ethan</th>\n",
       "      <td>Ethan</td>\n",
       "      <td>PilleB</td>\n",
       "      <td>8.9</td>\n",
       "      <td>5.0</td>\n",
       "      <td>-3.9</td>\n",
       "    </tr>\n",
       "    <tr>\n",
       "      <th>Laila</th>\n",
       "      <td>Laila</td>\n",
       "      <td>PilleC</td>\n",
       "      <td>7.4</td>\n",
       "      <td>3.0</td>\n",
       "      <td>-4.4</td>\n",
       "    </tr>\n",
       "    <tr>\n",
       "      <th>Oliver</th>\n",
       "      <td>Oliver</td>\n",
       "      <td>PilleC</td>\n",
       "      <td>8.5</td>\n",
       "      <td>4.0</td>\n",
       "      <td>-4.5</td>\n",
       "    </tr>\n",
       "    <tr>\n",
       "      <th>Mia</th>\n",
       "      <td>Mia</td>\n",
       "      <td>PilleB</td>\n",
       "      <td>8.6</td>\n",
       "      <td>4.0</td>\n",
       "      <td>-4.6</td>\n",
       "    </tr>\n",
       "    <tr>\n",
       "      <th>Joshua</th>\n",
       "      <td>Joshua</td>\n",
       "      <td>PilleC</td>\n",
       "      <td>8.7</td>\n",
       "      <td>4.0</td>\n",
       "      <td>-4.7</td>\n",
       "    </tr>\n",
       "    <tr>\n",
       "      <th>Sophia</th>\n",
       "      <td>Sophia</td>\n",
       "      <td>PilleC</td>\n",
       "      <td>9.3</td>\n",
       "      <td>4.0</td>\n",
       "      <td>-5.3</td>\n",
       "    </tr>\n",
       "    <tr>\n",
       "      <th>Karl</th>\n",
       "      <td>Karl</td>\n",
       "      <td>PilleC</td>\n",
       "      <td>9.3</td>\n",
       "      <td>4.0</td>\n",
       "      <td>-5.3</td>\n",
       "    </tr>\n",
       "    <tr>\n",
       "      <th>Emma</th>\n",
       "      <td>Emma</td>\n",
       "      <td>PilleC</td>\n",
       "      <td>10.0</td>\n",
       "      <td>4.0</td>\n",
       "      <td>-6.0</td>\n",
       "    </tr>\n",
       "  </tbody>\n",
       "</table>\n",
       "</div>"
      ],
      "text/plain": [
       "                Name Behandlung   Vor  Nach  Unterschied\n",
       "Benjamin    Benjamin     PilleA   6.9   7.0          0.1\n",
       "Emily          Emily     PilleA   8.3   8.0         -0.3\n",
       "Isabella    Isabella     PilleA   7.6   7.0         -0.6\n",
       "Daniel        Daniel     PilleA   7.8   7.0         -0.8\n",
       "Olivia        Olivia     PilleA   8.4   7.0         -1.4\n",
       "Elizabeth  Elizabeth     PilleB   9.6   8.0         -1.6\n",
       "Sarah          Sarah     PilleB   7.9   6.0         -1.9\n",
       "Ella            Ella     PilleB   9.0   7.0         -2.0\n",
       "Emma            Emma     PilleA   8.2   6.0         -2.2\n",
       "Charlotte  Charlotte     PilleB   8.6   6.0         -2.6\n",
       "Anna            Anna     PilleC   6.7   4.0         -2.7\n",
       "Liam            Liam     PilleB   8.9   6.0         -2.9\n",
       "Alexander  Alexander     PilleA  10.0   7.0         -3.0\n",
       "James          James     PilleA  10.0   7.0         -3.0\n",
       "Thomas        Thomas     PilleB   8.6   5.0         -3.6\n",
       "Lena            Lena     PilleC   6.8   3.0         -3.8\n",
       "Ethan          Ethan     PilleB   8.9   5.0         -3.9\n",
       "Laila          Laila     PilleC   7.4   3.0         -4.4\n",
       "Oliver        Oliver     PilleC   8.5   4.0         -4.5\n",
       "Mia              Mia     PilleB   8.6   4.0         -4.6\n",
       "Joshua        Joshua     PilleC   8.7   4.0         -4.7\n",
       "Sophia        Sophia     PilleC   9.3   4.0         -5.3\n",
       "Karl            Karl     PilleC   9.3   4.0         -5.3\n",
       "Emma            Emma     PilleC  10.0   4.0         -6.0"
      ]
     },
     "execution_count": 22,
     "metadata": {},
     "output_type": "execute_result"
    }
   ],
   "source": [
    "trial_data.sort_values(\"Unterschied\", ascending=False)"
   ]
  },
  {
   "cell_type": "code",
   "execution_count": 23,
   "id": "95ce4c9d-ce3f-4296-ba3d-7af09772bc9b",
   "metadata": {},
   "outputs": [
    {
     "data": {
      "image/png": "[encoded data removed]",
      "text/plain": [
       "<Figure size 640x480 with 1 Axes>"
      ]
     },
     "metadata": {},
     "output_type": "display_data"
    },
    {
     "data": {
      "image/png": "[encoded data removed]",
      "text/plain": [
       "<Figure size 640x480 with 1 Axes>"
      ]
     },
     "metadata": {},
     "output_type": "display_data"
    }
   ],
   "source": [
    "trial_data.boxplot(column=\"Unterschied\", by=\"Behandlung\", grid=False)\n",
    "plt.axhline(y=0, color=\"k\", linestyle=\"--\")\n",
    "trial_data.plot.scatter(\"Behandlung\", \"Unterschied\")\n",
    "plt.axhline(y=0, color=\"k\", linestyle=\"--\")\n",
    "plt.show()"
   ]
  },
  {
   "cell_type": "code",
   "execution_count": 24,
   "id": "4bb2023d-5b21-4d1b-81d8-fa3f5848dc5f",
   "metadata": {},
   "outputs": [
    {
     "data": {
      "image/png": "[encoded data removed]",
      "text/plain": [
       "<Figure size 640x480 with 1 Axes>"
      ]
     },
     "metadata": {},
     "output_type": "display_data"
    }
   ],
   "source": [
    "p = trial_data.boxplot(column=\"Unterschied\", by=\"Behandlung\", grid=False)\n",
    "plt.axhline(y=0, color=\"k\", linestyle=\"--\")\n",
    "for b, d in enumerate(trial_data[\"Unterschied\"]):\n",
    "    behandlung = trial_data[\"Behandlung\"][b]\n",
    "    if behandlung == \"PilleA\":\n",
    "        x = 1\n",
    "    elif behandlung == \"PilleB\":\n",
    "        x = 2\n",
    "    elif behandlung == \"PilleC\":\n",
    "        x = 3\n",
    "    plt.scatter(x, d, c=\"blue\")\n",
    "plt.show()"
   ]
  },
  {
   "cell_type": "code",
   "execution_count": 25,
   "id": "5dc55291-ff82-448b-ba6c-053f45e47c3f",
   "metadata": {},
   "outputs": [],
   "source": [
    "## density plot is not supported by Jupyter\n",
    "## trial_pivot = trial_data.reset_index().pivot(columns=\"Behandlung\", values=\"Unterschied\")\n",
    "## trial_pivot.plot.density()\n",
    "## plt.axvline(x=0, c=\"k\", linestyle=\"--\")\n",
    "## plt.show()"
   ]
  },
  {
   "cell_type": "markdown",
   "id": "bffcd6d2-43a4-471c-a9e0-9de7497b20a5",
   "metadata": {},
   "source": [
    "## Eine kleine statistische Analyse"
   ]
  },
  {
   "cell_type": "code",
   "execution_count": 26,
   "id": "00cabf4f-2448-432c-bdac-b66dbbe6c8e8",
   "metadata": {},
   "outputs": [],
   "source": [
    "import statsmodels as sm\n",
    "import statsmodels.api as sma\n",
    "from statsmodels.formula.api import ols"
   ]
  },
  {
   "cell_type": "code",
   "execution_count": 27,
   "id": "836159b9-6a0c-41d5-9243-fba4ad41ab36",
   "metadata": {},
   "outputs": [
    {
     "name": "stdout",
     "output_type": "stream",
     "text": [
      "                            OLS Regression Results                            \n",
      "==============================================================================\n",
      "Dep. Variable:            Unterschied   R-squared:                       0.615\n",
      "Model:                            OLS   Adj. R-squared:                  0.579\n",
      "Method:                 Least Squares   F-statistic:                     16.80\n",
      "Date:                Fri, 26 Jan 2024   Prob (F-statistic):           4.39e-05\n",
      "Time:                        09:42:48   Log-Likelihood:                -34.753\n",
      "No. Observations:                  24   AIC:                             75.51\n",
      "Df Residuals:                      21   BIC:                             79.04\n",
      "Df Model:                           2                                         \n",
      "Covariance Type:            nonrobust                                         \n",
      "========================================================================================\n",
      "                           coef    std err          t      P>|t|      [0.025      0.975]\n",
      "----------------------------------------------------------------------------------------\n",
      "Intercept               -1.4000      0.389     -3.598      0.002      -2.209      -0.591\n",
      "Behandlung[T.PilleB]    -1.4875      0.550     -2.703      0.013      -2.632      -0.343\n",
      "Behandlung[T.PilleC]    -3.1875      0.550     -5.792      0.000      -4.332      -2.043\n",
      "==============================================================================\n",
      "Omnibus:                        2.213   Durbin-Watson:                   2.214\n",
      "Prob(Omnibus):                  0.331   Jarque-Bera (JB):                1.145\n",
      "Skew:                          -0.084   Prob(JB):                        0.564\n",
      "Kurtosis:                       1.943   Cond. No.                         3.73\n",
      "==============================================================================\n",
      "\n",
      "Notes:\n",
      "[1] Standard Errors assume that the covariance matrix of the errors is correctly specified.\n"
     ]
    }
   ],
   "source": [
    "pille_effect = ols('Unterschied ~ Behandlung', data = trial_data).fit()\n",
    "print(pille_effect.summary())"
   ]
  },
  {
   "cell_type": "code",
   "execution_count": 28,
   "id": "b9696e45-0e03-476c-80c9-ec59932bae40",
   "metadata": {},
   "outputs": [
    {
     "name": "stdout",
     "output_type": "stream",
     "text": [
      "              df     sum_sq    mean_sq          F    PR(>F)\n",
      "Behandlung   2.0  40.700833  20.350417  16.800344  0.000044\n",
      "Residual    21.0  25.437500   1.211310        NaN       NaN\n"
     ]
    }
   ],
   "source": [
    "table = sma.stats.anova_lm(pille_effect)\n",
    "print(table)"
   ]
  },
  {
   "cell_type": "markdown",
   "id": "d49934d2-106f-4ef8-8cb6-b809c58a6a79",
   "metadata": {},
   "source": [
    "## Die Daten exportieren"
   ]
  },
  {
   "cell_type": "code",
   "execution_count": 29,
   "id": "94a4523d-e587-4ff4-9619-eb3931932210",
   "metadata": {},
   "outputs": [],
   "source": [
    "trial_data[['Behandlung', 'Vor', 'Nach']].to_csv(\"20240126-simulated-trial-data.tsv\", sep=\"\\t\", index=False)"
   ]
  },
  {
   "cell_type": "markdown",
   "id": "49586425-25b0-4de3-91d9-230573bfe9e1",
   "metadata": {},
   "source": [
    "## Fragen"
   ]
  },
  {
   "cell_type": "markdown",
   "id": "b3be157d-a7de-445c-8f5c-0a045ec667a7",
   "metadata": {},
   "source": [
    "1. Wer glaubt, dass ihre/sein Pille hat funktioniert für sie/ihn? Wer glaubt, dass die Pille nicht funktioniert hat?\n",
    "2. Wenn wir davon ausgehen, dass Pille A, Pille B, Pille C jeweilse Placebo, ein neu Medikament von einer niedriger Dose, und das selbe neue Medikament von einer höheren Dose sind. Welche Schlussfolgerungen können wir ziehen?\n",
    "3. Um das Medikament zu mehr Patienten bringen, worauf müssen wir noch beachten?\n",
    "4. Was können wir noch mit den Daten machen? Falls Du Lust und Zeit hast, probiere [ChatGPT](https://chat.openai.com/) oder ähnliche Tools zu benutzen, um mit den Daten bzw. mit unseren Code zu spielen, z.B. neue Funktionalität hinzufügen oder andere Visualisierungen zu realisieren."
   ]
  }
 ],
 "metadata": {
  "kernelspec": {
   "display_name": "Python 3 (ipykernel)",
   "language": "python",
   "name": "python3"
  },
  "language_info": {
   "codemirror_mode": {
    "name": "ipython",
    "version": 3
   },
   "file_extension": ".py",
   "mimetype": "text/x-python",
   "name": "python",
   "nbconvert_exporter": "python",
   "pygments_lexer": "ipython3",
   "version": "3.11.3"
  }
 },
 "nbformat": 4,
 "nbformat_minor": 5
}
