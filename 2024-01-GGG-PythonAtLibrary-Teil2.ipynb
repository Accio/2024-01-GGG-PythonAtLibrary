{
 "cells": [
  {
   "cell_type": "markdown",
   "id": "934969ce-d882-4166-aa2c-ef9ea32d4217",
   "metadata": {},
   "source": [
    "# Python@Library 2024 - Teil 2\n",
    "\n",
    "Jitao David Zhang, Januar 2024\n",
    "\n",
    "Diese kurze Python Tutorial is stark vom Software Carpentry Kurs [*Plotting and Programming in Python*](https://swcarpentry.github.io/python-novice-gapminder/), und von [Python Tutorial](https://github.com/kdungs/teaching-SMD2-2016/blob/master/tutorials/Python%20Tutorial.ipynb) von *kdungs* inspiriert."
   ]
  },
  {
   "cell_type": "markdown",
   "id": "e6b51a85-4b15-4884-93f4-4dd33dace8cf",
   "metadata": {},
   "source": [
    "## Variablen, Datentypen, und Operatoren"
   ]
  },
  {
   "cell_type": "markdown",
   "id": "1befe925-df36-41f8-998b-28035c2bf06b",
   "metadata": {},
   "source": [
    "* Der *nullwertige Typ*"
   ]
  }
 ],
 "metadata": {
  "kernelspec": {
   "display_name": "Python 3 (ipykernel)",
   "language": "python",
   "name": "python3"
  },
  "language_info": {
   "codemirror_mode": {
    "name": "ipython",
    "version": 3
   },
   "file_extension": ".py",
   "mimetype": "text/x-python",
   "name": "python",
   "nbconvert_exporter": "python",
   "pygments_lexer": "ipython3",
   "version": "3.11.3"
  }
 },
 "nbformat": 4,
 "nbformat_minor": 5
}
